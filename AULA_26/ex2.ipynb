{
 "cells": [
  {
   "cell_type": "code",
   "execution_count": null,
   "metadata": {},
   "outputs": [],
   "source": []
  },
  {
   "cell_type": "code",
   "execution_count": 2,
   "metadata": {},
   "outputs": [
    {
     "name": "stdout",
     "output_type": "stream",
     "text": [
      "Obtendo dados do arquivo parquet...\n",
      "shape: (5, 9)\n",
      "┌────────────┬────────────┬─────┬────────────┬───┬────────────┬────────────┬───────────┬───────────┐\n",
      "│ MÊS COMPET ┆ MÊS        ┆ UF  ┆ CÓDIGO     ┆ … ┆ CPF        ┆ NIS        ┆ NOME FAVO ┆ VALOR     │\n",
      "│ ÊNCIA      ┆ REFERÊNCIA ┆ --- ┆ MUNICÍPIO  ┆   ┆ FAVORECIDO ┆ FAVORECIDO ┆ RECIDO    ┆ PARCELA   │\n",
      "│ ---        ┆ ---        ┆ cat ┆ SIAFI      ┆   ┆ ---        ┆ ---        ┆ ---       ┆ ---       │\n",
      "│ str        ┆ str        ┆     ┆ ---        ┆   ┆ str        ┆ i64        ┆ str       ┆ f64       │\n",
      "│            ┆            ┆     ┆ i64        ┆   ┆            ┆            ┆           ┆           │\n",
      "╞════════════╪════════════╪═════╪════════════╪═══╪════════════╪════════════╪═══════════╪═══════════╡\n",
      "│ 202501     ┆ 202308     ┆ SP  ┆ 7071       ┆ … ┆ ***.085.10 ┆ 2064389044 ┆ FERNANDA  ┆ 650.0     │\n",
      "│            ┆            ┆     ┆            ┆   ┆ 6-**       ┆ 5          ┆ RAMOS     ┆           │\n",
      "│            ┆            ┆     ┆            ┆   ┆            ┆            ┆ TEIXEIRA  ┆           │\n",
      "│ 202501     ┆ 202309     ┆ SP  ┆ 7071       ┆ … ┆ ***.085.10 ┆ 2064389044 ┆ FERNANDA  ┆ 650.0     │\n",
      "│            ┆            ┆     ┆            ┆   ┆ 6-**       ┆ 5          ┆ RAMOS     ┆           │\n",
      "│            ┆            ┆     ┆            ┆   ┆            ┆            ┆ TEIXEIRA  ┆           │\n",
      "│ 202501     ┆ 202310     ┆ SP  ┆ 7071       ┆ … ┆ ***.085.10 ┆ 2064389044 ┆ FERNANDA  ┆ 650.0     │\n",
      "│            ┆            ┆     ┆            ┆   ┆ 6-**       ┆ 5          ┆ RAMOS     ┆           │\n",
      "│            ┆            ┆     ┆            ┆   ┆            ┆            ┆ TEIXEIRA  ┆           │\n",
      "│ 202501     ┆ 202311     ┆ SP  ┆ 7071       ┆ … ┆ ***.085.10 ┆ 2064389044 ┆ FERNANDA  ┆ 650.0     │\n",
      "│            ┆            ┆     ┆            ┆   ┆ 6-**       ┆ 5          ┆ RAMOS     ┆           │\n",
      "│            ┆            ┆     ┆            ┆   ┆            ┆            ┆ TEIXEIRA  ┆           │\n",
      "│ 202501     ┆ 202312     ┆ SP  ┆ 7071       ┆ … ┆ ***.085.10 ┆ 2064389044 ┆ FERNANDA  ┆ 650.0     │\n",
      "│            ┆            ┆     ┆            ┆   ┆ 6-**       ┆ 5          ┆ RAMOS     ┆           │\n",
      "│            ┆            ┆     ┆            ┆   ┆            ┆            ┆ TEIXEIRA  ┆           │\n",
      "└────────────┴────────────┴─────┴────────────┴───┴────────────┴────────────┴───────────┴───────────┘\n",
      "['MÊS COMPETÊNCIA', 'MÊS REFERÊNCIA', 'UF', 'CÓDIGO MUNICÍPIO SIAFI', 'NOME MUNICÍPIO', 'CPF FAVORECIDO', 'NIS FAVORECIDO', 'NOME FAVORECIDO', 'VALOR PARCELA']\n",
      "[String, String, Categorical(ordering='physical'), Int64, Categorical(ordering='physical'), String, Int64, String, Float64]\n",
      "Tempo de execução: 0:00:10.465795\n",
      "Dados obtidos com sucesso!\n"
     ]
    }
   ],
   "source": [
    "from datetime import datetime\n",
    "import polars as pl\n",
    "import numpy as np\n",
    "import matplotlib.pyplot as plt\n",
    "import seaborn as sns\n",
    "# pip install xlsxwriter\n",
    "#Tempo de execução: 0:00:16.139206\n",
    "# Endereços dos Dados\n",
    "ENDERECO_DADOS = r'./../../../bronze/'\n",
    "\n",
    "# obtenção de dados\n",
    "try:\n",
    "    print('Obtendo dados do arquivo parquet...')\n",
    "\n",
    "    # hora de início\n",
    "    hora_inicio = datetime.now()\n",
    "\n",
    "    # retornar o plano de execução\n",
    "    df_bf_exec_plan = pl.scan_parquet(ENDERECO_DADOS + 'bolsa_familia_str_cache.parquet')\n",
    "\n",
    "    # executar o plano de execução e obter os dados\n",
    "    df_bf = df_bf_exec_plan.collect() # coletar os dados do plano de execução\n",
    "\n",
    "    print(df_bf.head())\n",
    "    print(df_bf.columns)\n",
    "    print(df_bf.dtypes)\n",
    "\n",
    "    # hora de término\n",
    "    hora_fim = datetime.now()\n",
    "\n",
    "    print(f'Tempo de execução: {hora_fim - hora_inicio}')\n",
    "\n",
    "    print('Dados obtidos com sucesso!')\n",
    "\n",
    "except Exception as e:\n",
    "    print(f'Erro ao obter dados: {e}')"
   ]
  },
  {
   "cell_type": "code",
   "execution_count": 3,
   "metadata": {},
   "outputs": [],
   "source": [
    "try:\n",
    "    array_valor_parcela = np.array(df_bf['VALOR PARCELA'])\n",
    "\n",
    "except Exception as e:\n",
    "    print(f'Erro ao processar dados: {e}')"
   ]
  },
  {
   "cell_type": "code",
   "execution_count": 6,
   "metadata": {},
   "outputs": [
    {
     "data": {
      "image/png": "[encoded data removed]",
      "text/plain": [
       "<Figure size 640x480 with 1 Axes>"
      ]
     },
     "metadata": {},
     "output_type": "display_data"
    }
   ],
   "source": [
    "# Visualiza as Distribuições dos valores das parcelas \"Boxplot\"\n",
    "try:\n",
    "    #plt.figure(figsize=(10, 6))\n",
    "    sns.boxplot(x=array_valor_parcela, color='lightblue')\n",
    "    # #plt.title('Distribuição dos Valores das Parcelas do Bolsa Família')\n",
    "    # plt.xlabel('Valor da Parcela (R$)')\n",
    "    # plt.grid(True)\n",
    "    # plt.tight_layout()\n",
    "    plt.show()\n",
    "\n",
    "except Exception as e:\n",
    "    print(f'Erro ao plotar o gráfico: {e}')"
   ]
  },
  {
   "cell_type": "code",
   "execution_count": 6,
   "metadata": {},
   "outputs": [
    {
     "name": "stdout",
     "output_type": "stream",
     "text": [
      "frequencia dos valores das parcelas:\n",
      "shape: (10, 2)\n",
      "┌───────────────┬────────────┐\n",
      "│ VALOR PARCELA ┆ FREQUÊNCIA │\n",
      "│ ---           ┆ ---        │\n",
      "│ f64           ┆ u32        │\n",
      "╞═══════════════╪════════════╡\n",
      "│ 600.0         ┆ 28828754   │\n",
      "│ 650.0         ┆ 16161736   │\n",
      "│ 750.0         ┆ 13130225   │\n",
      "│ 800.0         ┆ 8029497    │\n",
      "│ 700.0         ┆ 6764836    │\n",
      "│ 300.0         ┆ 3610672    │\n",
      "│ 325.0         ┆ 3263849    │\n",
      "│ 900.0         ┆ 2889959    │\n",
      "│ 850.0         ┆ 2537397    │\n",
      "│ 375.0         ┆ 1904609    │\n",
      "└───────────────┴────────────┘\n",
      "Moda: Valor = 600.0, Frequência = 28828754\n"
     ]
    }
   ],
   "source": [
    "# Mostrar a frequência dos valores das parcelas\n",
    "try:\n",
    "    print('frequencia dos valores das parcelas:')\n",
    "    df_frequencia = (\n",
    "    df_bf.group_by('VALOR PARCELA')\n",
    "    .agg(pl.len().alias('FREQUÊNCIA')) \n",
    "    .sort('FREQUÊNCIA', descending=True)\n",
    "    )\n",
    "\n",
    "    # Exibir as 10 primeiras frequências\n",
    "    print(df_frequencia.head(10))\n",
    "\n",
    "    # Obtera a moda\n",
    "\n",
    "    moda_valor = df_frequencia[0, 'VALOR PARCELA']\n",
    "    moda_freq = df_frequencia[0, 'FREQUÊNCIA']\n",
    "\n",
    "    # exporta para excel\n",
    "    df_frequencia.write_excel(ENDERECO_DADOS + 'frequencia_valores_parcela.xlsx')\n",
    "\n",
    "\n",
    "    print(f'Moda: Valor = {moda_valor}, Frequência = {moda_freq}')\n",
    "except Exception as e:\n",
    "    print(f'Erro ao processar dados para o histograma: {e}')"
   ]
  },
  {
   "cell_type": "code",
   "execution_count": 5,
   "metadata": {},
   "outputs": [
    {
     "data": {
      "image/png": "[encoded data removed]",
      "text/plain": [
       "<Figure size 640x480 with 1 Axes>"
      ]
     },
     "metadata": {},
     "output_type": "display_data"
    }
   ],
   "source": [
    "#visualizar a Frequência dos valores das parcelas em histograma\n",
    "try:\n",
    "    bins = np.arange(0, 4800, 100)  # Definindo os bins para o histograma\n",
    "    sns.histplot(array_valor_parcela, bins=30, color='lightblue')\n",
    "    plt.show()\n",
    "\n",
    "except Exception as e:\n",
    "    print(f'Erro ao plotar o histograma: {e}')"
   ]
  }
 ],
 "metadata": {
  "kernelspec": {
   "display_name": "venv",
   "language": "python",
   "name": "python3"
  },
  "language_info": {
   "codemirror_mode": {
    "name": "ipython",
    "version": 3
   },
   "file_extension": ".py",
   "mimetype": "text/x-python",
   "name": "python",
   "nbconvert_exporter": "python",
   "pygments_lexer": "ipython3",
   "version": "3.11.4"
  },
  "orig_nbformat": 4
 },
 "nbformat": 4,
 "nbformat_minor": 2
}
